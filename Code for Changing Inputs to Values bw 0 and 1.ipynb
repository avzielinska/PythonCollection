{
 "cells": [
  {
   "cell_type": "code",
   "execution_count": 1,
   "metadata": {},
   "outputs": [
    {
     "name": "stderr",
     "output_type": "stream",
     "text": [
      "Using TensorFlow backend.\n"
     ]
    }
   ],
   "source": [
    "import pandas as pd\n",
    "import numpy\n",
    "import arff\n",
    "import sklearn\n",
    "from keras.models import Sequential\n",
    "from keras.layers import Dense "
   ]
  },
  {
   "cell_type": "code",
   "execution_count": 2,
   "metadata": {
    "collapsed": true
   },
   "outputs": [],
   "source": [
    "df = pd.read_excel(\"ErrorCombined.xlsx\", index = False)"
   ]
  },
  {
   "cell_type": "code",
   "execution_count": null,
   "metadata": {
    "collapsed": true
   },
   "outputs": [],
   "source": [
    "#InitialSolution\n",
    "col = 1\n",
    "while col < len(df.columns):\n",
    "    if len(df.ix[:,col].unique()) == 2:\n",
    "        df.ix[:,col] = pd.factorize(df.ix[:,col])[0]\n",
    "        col = col + 1\n",
    "    else:\n",
    "        df.ix[:,col] = (pd.factorize(df.ix[:,col])[0] + 1) / len(df.ix[:,col].unique()) \n",
    "        col = col + 1 \n",
    "\n",
    "#AlternativeSolution\n",
    "\n",
    "col = 1\n",
    "while col < len(df.columns):\n",
    "    if len(df.iloc[:,col].unique()) == 2:\n",
    "        df.iloc[:,col] = pd.factorize(df.iloc[:,col])[0]\n",
    "        col = col + 1\n",
    "    else:\n",
    "        df.iloc[:,col] = (pd.factorize(df.iloc[:,col])[0] + 1) / len(df.iloc[:,col].unique()) \n",
    "        col = col + 1 "
   ]
  }
 ],
 "metadata": {
  "kernelspec": {
   "display_name": "Python 3",
   "language": "python",
   "name": "python3"
  },
  "language_info": {
   "codemirror_mode": {
    "name": "ipython",
    "version": 3
   },
   "file_extension": ".py",
   "mimetype": "text/x-python",
   "name": "python",
   "nbconvert_exporter": "python",
   "pygments_lexer": "ipython3",
   "version": "3.6.2"
  }
 },
 "nbformat": 4,
 "nbformat_minor": 2
}
